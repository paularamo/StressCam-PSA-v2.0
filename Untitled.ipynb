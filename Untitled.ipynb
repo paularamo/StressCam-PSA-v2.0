{
 "cells": [
  {
   "cell_type": "markdown",
   "metadata": {},
   "source": [
    "## DOWNLOADING THE RASPBERRY PI OS\n",
    "•\tGo to https://www.raspberrypi.org/downloads/raspbian/\n",
    "•\tClick “Download ZIP” for the Raspbian Stretch with Desktop\n",
    "•\tUnzip the downloaded file and copy the contents of this folder as is into the newly formatted SD card\n",
    "•\tCreate a new file name “autoboot.txt” and write “boot_partition=6” in it. (This is required for proper functioning of the Witty Pi)\n",
    "•\tInsert the SD card into the raspberry pi and turn the power ON. It should start the installation and follow the steps. \n",
    "•\tChoose to download the “Raspberry Pi OS Debian Desktop version if it asks during installation.\n",
    "\n",
    "## Downloading the Witty Pi software on raspberry pi\n",
    "Once the raspberry pi OS has been successfully installed, connect the raspberry pi with Wi-Fi and then follow the below steps for downloading Witty Pi software.\n",
    "•\tType: wget http://www.uugear.com/repo/WittyPi2/installWittyPi.sh\n",
    "•\tIf the download was successful, type: sudo sh installWittyPi.sh\n",
    "•\tIf it prompts something regarding fake-hwclock package, press ‘y’. Since we want to remove this package.\n",
    "•\tThen it will ask about Qt 5 GUI installation, for which press ‘n’ since we can use terminal to perform the setup.\n",
    "•\tIf everything is properly installed, then it will say that you need to reboot the pi.\n",
    "•\tType: reboot, to reboot the raspberry pi.\n",
    "Setting up the witty pi\n",
    "•\tType: cd wittyPi\n",
    "•\tNow type: sudo ./wittyPi.sh\n",
    "•\tThis should start a wittyPi interface, if it doesn’t then redo the installation steps.\n",
    "•\tFor the steps for configuring the raspberry pi startup time and shutdown time,  http://www.uugear.com/doc/WittyPiMini_UserManual.pdf use this manual.\n",
    "\n",
    "## Troubleshooting / Checking raspberry pi functioning\n",
    "Start the remote session through SSH using the IP address of the raspberry pi. We used putty software for this, but many other alternatives are available. Once you are able to access the pi, use the below codes for different tasks that you might require to perform.\n",
    "\n",
    "Check the name of raspberry pi\n",
    "Type: cat myname.txt\n",
    "This gives the number of the raspberry pi.\n",
    "\n",
    "See if code was invoked\n",
    "Type: cat logs.txt\n",
    "This will display the contents of the logs file and it shows when the code was invoked, and image is taken.\n",
    "\n",
    "See the list of images on the pi\n",
    "Type: ls images/\n",
    "This will give a list of all images taken and stored in the raspberry pi.\n",
    "\n",
    "See the date and time on the pi\n",
    "Type: date\n",
    "\n",
    "Check if code is running\n",
    "Type: ps -aef | grep python\n",
    "The first two lines should have “takeImage.py” in the end. If not then, there has been some issue and the code has stopped working.\n",
    "\n",
    "\n",
    "\n",
    "\n"
   ]
  }
 ],
 "metadata": {
  "kernelspec": {
   "display_name": "Python 3",
   "language": "python",
   "name": "python3"
  },
  "language_info": {
   "codemirror_mode": {
    "name": "ipython",
    "version": 3
   },
   "file_extension": ".py",
   "mimetype": "text/x-python",
   "name": "python",
   "nbconvert_exporter": "python",
   "pygments_lexer": "ipython3",
   "version": "3.7.1"
  }
 },
 "nbformat": 4,
 "nbformat_minor": 2
}
